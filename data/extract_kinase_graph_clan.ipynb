{
 "cells": [
  {
   "cell_type": "markdown",
   "metadata": {},
   "source": [
    "This notebook is used to \n",
    "- find available kinase structures (`kinase_pdblist.txt`) in `PDBBind`\n",
    "- create kinase `graphclan` using available structures"
   ]
  },
  {
   "cell_type": "code",
   "execution_count": 1,
   "metadata": {},
   "outputs": [],
   "source": [
    "import pickle\n",
    "import pandas as pd\n",
    "graphclan_file = 'ClanGraph_90_df.pkl'\n",
    "kinase_file = 'kinase_pdbids.txt'\n",
    "kinase_clanfile = 'ClanGraph_kinase_90_df.pkl'"
   ]
  },
  {
   "cell_type": "code",
   "execution_count": 2,
   "metadata": {},
   "outputs": [],
   "source": [
    "import re\n",
    "def readEntryList(filename, sep='[\\s,; ]+'):\n",
    "    with open(filename, 'r') as file:\n",
    "        content = file.read()\n",
    "    results = re.split(sep, content)\n",
    "    results = [r.strip().lower() for r in results]\n",
    "    return results"
   ]
  },
  {
   "cell_type": "markdown",
   "metadata": {},
   "source": [
    "## Load GraphClan and Kinase PDB IDs"
   ]
  },
  {
   "cell_type": "code",
   "execution_count": 3,
   "metadata": {},
   "outputs": [
    {
     "name": "stdout",
     "output_type": "stream",
     "text": [
      "Number of kinase structures found in PDB: 9727\n"
     ]
    },
    {
     "data": {
      "text/html": [
       "<div>\n",
       "<style scoped>\n",
       "    .dataframe tbody tr th:only-of-type {\n",
       "        vertical-align: middle;\n",
       "    }\n",
       "\n",
       "    .dataframe tbody tr th {\n",
       "        vertical-align: top;\n",
       "    }\n",
       "\n",
       "    .dataframe thead th {\n",
       "        text-align: right;\n",
       "    }\n",
       "</style>\n",
       "<table border=\"1\" class=\"dataframe\">\n",
       "  <thead>\n",
       "    <tr style=\"text-align: right;\">\n",
       "      <th></th>\n",
       "      <th>Structure_Clan_ID</th>\n",
       "      <th>PDBIDList</th>\n",
       "    </tr>\n",
       "  </thead>\n",
       "  <tbody>\n",
       "    <tr>\n",
       "      <th>0</th>\n",
       "      <td>0</td>\n",
       "      <td>[1a30, 1a94, 1a9m, 1aaq, 1aid, 1ajv, 1ajx, 1b6...</td>\n",
       "    </tr>\n",
       "    <tr>\n",
       "      <th>1</th>\n",
       "      <td>1</td>\n",
       "      <td>[1bcd, 1bn1, 1bn3, 1bn4, 1bnn, 1bnq, 1bnt, 1bn...</td>\n",
       "    </tr>\n",
       "    <tr>\n",
       "      <th>2</th>\n",
       "      <td>2</td>\n",
       "      <td>[1yet, 2qg0, 2qg2, 2uwd, 2xab, 2xdk, 2xdl, 2xd...</td>\n",
       "    </tr>\n",
       "    <tr>\n",
       "      <th>3</th>\n",
       "      <td>3</td>\n",
       "      <td>[1bju, 1bjv, 1bty, 1c5p, 1c5q, 1c5s, 1c5t, 1eb...</td>\n",
       "    </tr>\n",
       "    <tr>\n",
       "      <th>4</th>\n",
       "      <td>4</td>\n",
       "      <td>[1a4w, 1bcu, 1bhx, 1c5n, 1c5o, 1d3d, 1d3p, 1d9...</td>\n",
       "    </tr>\n",
       "    <tr>\n",
       "      <th>...</th>\n",
       "      <td>...</td>\n",
       "      <td>...</td>\n",
       "    </tr>\n",
       "    <tr>\n",
       "      <th>1321</th>\n",
       "      <td>1321</td>\n",
       "      <td>[3hl5]</td>\n",
       "    </tr>\n",
       "    <tr>\n",
       "      <th>1322</th>\n",
       "      <td>1322</td>\n",
       "      <td>[2y7i]</td>\n",
       "    </tr>\n",
       "    <tr>\n",
       "      <th>1323</th>\n",
       "      <td>1323</td>\n",
       "      <td>[2oi2]</td>\n",
       "    </tr>\n",
       "    <tr>\n",
       "      <th>1324</th>\n",
       "      <td>1324</td>\n",
       "      <td>[1xt8]</td>\n",
       "    </tr>\n",
       "    <tr>\n",
       "      <th>1325</th>\n",
       "      <td>1325</td>\n",
       "      <td>[4g4p]</td>\n",
       "    </tr>\n",
       "  </tbody>\n",
       "</table>\n",
       "<p>1326 rows × 2 columns</p>\n",
       "</div>"
      ],
      "text/plain": [
       "      Structure_Clan_ID                                          PDBIDList\n",
       "0                     0  [1a30, 1a94, 1a9m, 1aaq, 1aid, 1ajv, 1ajx, 1b6...\n",
       "1                     1  [1bcd, 1bn1, 1bn3, 1bn4, 1bnn, 1bnq, 1bnt, 1bn...\n",
       "2                     2  [1yet, 2qg0, 2qg2, 2uwd, 2xab, 2xdk, 2xdl, 2xd...\n",
       "3                     3  [1bju, 1bjv, 1bty, 1c5p, 1c5q, 1c5s, 1c5t, 1eb...\n",
       "4                     4  [1a4w, 1bcu, 1bhx, 1c5n, 1c5o, 1d3d, 1d3p, 1d9...\n",
       "...                 ...                                                ...\n",
       "1321               1321                                             [3hl5]\n",
       "1322               1322                                             [2y7i]\n",
       "1323               1323                                             [2oi2]\n",
       "1324               1324                                             [1xt8]\n",
       "1325               1325                                             [4g4p]\n",
       "\n",
       "[1326 rows x 2 columns]"
      ]
     },
     "execution_count": 3,
     "metadata": {},
     "output_type": "execute_result"
    }
   ],
   "source": [
    "kinase_pids = readEntryList(kinase_file)\n",
    "print(f\"Number of kinase structures found in PDB: {len(kinase_pids)}\")\n",
    "with open(graphclan_file, 'rb') as file:\n",
    "    df = pickle.load(file)\n",
    "df"
   ]
  },
  {
   "cell_type": "markdown",
   "metadata": {},
   "source": [
    "## Extract kinase from the DataFrame"
   ]
  },
  {
   "cell_type": "code",
   "execution_count": 4,
   "metadata": {},
   "outputs": [
    {
     "data": {
      "text/html": [
       "<div>\n",
       "<style scoped>\n",
       "    .dataframe tbody tr th:only-of-type {\n",
       "        vertical-align: middle;\n",
       "    }\n",
       "\n",
       "    .dataframe tbody tr th {\n",
       "        vertical-align: top;\n",
       "    }\n",
       "\n",
       "    .dataframe thead th {\n",
       "        text-align: right;\n",
       "    }\n",
       "</style>\n",
       "<table border=\"1\" class=\"dataframe\">\n",
       "  <thead>\n",
       "    <tr style=\"text-align: right;\">\n",
       "      <th></th>\n",
       "      <th>Structure_Clan_ID</th>\n",
       "      <th>PDBIDList</th>\n",
       "    </tr>\n",
       "  </thead>\n",
       "  <tbody>\n",
       "    <tr>\n",
       "      <th>16</th>\n",
       "      <td>16</td>\n",
       "      <td>[1kv1, 1yqj, 2baj, 2bak, 2bal, 2yix, 2zb1, 3d7...</td>\n",
       "    </tr>\n",
       "    <tr>\n",
       "      <th>18</th>\n",
       "      <td>18</td>\n",
       "      <td>[5i9x, 5i9y, 5ia0, 5ia1, 5ia2, 5ia3, 5ia4, 5ia...</td>\n",
       "    </tr>\n",
       "    <tr>\n",
       "      <th>20</th>\n",
       "      <td>20</td>\n",
       "      <td>[3bqc, 3h30, 3pe1, 3pe2, 5cqu, 5cs6, 5csp, 5cu...</td>\n",
       "    </tr>\n",
       "    <tr>\n",
       "      <th>25</th>\n",
       "      <td>25</td>\n",
       "      <td>[1q8t, 1q8u, 1stc, 1xh4, 1xh5, 1xh9, 1ydr, 1yd...</td>\n",
       "    </tr>\n",
       "    <tr>\n",
       "      <th>30</th>\n",
       "      <td>30</td>\n",
       "      <td>[1b38, 1e1x, 1jsv, 1pxo, 1pxp, 2fvd, 2xmy, 2xn...</td>\n",
       "    </tr>\n",
       "    <tr>\n",
       "      <th>...</th>\n",
       "      <td>...</td>\n",
       "      <td>...</td>\n",
       "    </tr>\n",
       "    <tr>\n",
       "      <th>1224</th>\n",
       "      <td>1224</td>\n",
       "      <td>[6gzd]</td>\n",
       "    </tr>\n",
       "    <tr>\n",
       "      <th>1246</th>\n",
       "      <td>1246</td>\n",
       "      <td>[4z07]</td>\n",
       "    </tr>\n",
       "    <tr>\n",
       "      <th>1262</th>\n",
       "      <td>1262</td>\n",
       "      <td>[4da5]</td>\n",
       "    </tr>\n",
       "    <tr>\n",
       "      <th>1294</th>\n",
       "      <td>1294</td>\n",
       "      <td>[4y0a]</td>\n",
       "    </tr>\n",
       "    <tr>\n",
       "      <th>1323</th>\n",
       "      <td>1323</td>\n",
       "      <td>[2oi2]</td>\n",
       "    </tr>\n",
       "  </tbody>\n",
       "</table>\n",
       "<p>120 rows × 2 columns</p>\n",
       "</div>"
      ],
      "text/plain": [
       "      Structure_Clan_ID                                          PDBIDList\n",
       "16                   16  [1kv1, 1yqj, 2baj, 2bak, 2bal, 2yix, 2zb1, 3d7...\n",
       "18                   18  [5i9x, 5i9y, 5ia0, 5ia1, 5ia2, 5ia3, 5ia4, 5ia...\n",
       "20                   20  [3bqc, 3h30, 3pe1, 3pe2, 5cqu, 5cs6, 5csp, 5cu...\n",
       "25                   25  [1q8t, 1q8u, 1stc, 1xh4, 1xh5, 1xh9, 1ydr, 1yd...\n",
       "30                   30  [1b38, 1e1x, 1jsv, 1pxo, 1pxp, 2fvd, 2xmy, 2xn...\n",
       "...                 ...                                                ...\n",
       "1224               1224                                             [6gzd]\n",
       "1246               1246                                             [4z07]\n",
       "1262               1262                                             [4da5]\n",
       "1294               1294                                             [4y0a]\n",
       "1323               1323                                             [2oi2]\n",
       "\n",
       "[120 rows x 2 columns]"
      ]
     },
     "execution_count": 4,
     "metadata": {},
     "output_type": "execute_result"
    }
   ],
   "source": [
    "def extract(row, kinase_pids):\n",
    "    old_list = row['PDBIDList']\n",
    "    new_list = set(old_list).intersection(kinase_pids)\n",
    "    new_list = sorted(new_list)\n",
    "    return new_list\n",
    "df['new_PDBIDList'] = df.apply(lambda x: extract(x, kinase_pids), axis=1)\n",
    "mask = df.apply(lambda x: True if len(x['new_PDBIDList'])>0 else False, axis=1)\n",
    "modified_df = df[mask]\n",
    "modified_df = modified_df.drop('PDBIDList', axis=1)\n",
    "modified_df = modified_df.rename(columns={'new_PDBIDList': 'PDBIDList'})\n",
    "modified_df"
   ]
  },
  {
   "cell_type": "markdown",
   "metadata": {},
   "source": [
    "## Write to file"
   ]
  },
  {
   "cell_type": "code",
   "execution_count": 5,
   "metadata": {},
   "outputs": [],
   "source": [
    "with open(kinase_clanfile, 'wb') as file:\n",
    "    pickle.dump(modified_df, file)"
   ]
  },
  {
   "cell_type": "markdown",
   "metadata": {},
   "source": [
    "## Statistics about the kinase clan"
   ]
  },
  {
   "cell_type": "code",
   "execution_count": 6,
   "metadata": {},
   "outputs": [
    {
     "name": "stdout",
     "output_type": "stream",
     "text": [
      "Number of kinase structures in PDBBind: 386\n"
     ]
    }
   ],
   "source": [
    "import itertools\n",
    "kinase_in_PDBBind = itertools.chain(*modified_df['PDBIDList'].values.tolist())\n",
    "kinase_in_PDBBind = list(kinase_in_PDBBind)\n",
    "print(\"Number of kinase structures in PDBBind:\", len(kinase_in_PDBBind))"
   ]
  },
  {
   "cell_type": "code",
   "execution_count": null,
   "metadata": {},
   "outputs": [],
   "source": []
  }
 ],
 "metadata": {
  "kernelspec": {
   "display_name": "Python 3.8.13 ('featint')",
   "language": "python",
   "name": "python3"
  },
  "language_info": {
   "codemirror_mode": {
    "name": "ipython",
    "version": 3
   },
   "file_extension": ".py",
   "mimetype": "text/x-python",
   "name": "python",
   "nbconvert_exporter": "python",
   "pygments_lexer": "ipython3",
   "version": "3.8.19"
  },
  "orig_nbformat": 4,
  "vscode": {
   "interpreter": {
    "hash": "b12d64d3f42fd00d67315e8becc279ca0b3f01aacd11b3bc19938e8bed2f7570"
   }
  }
 },
 "nbformat": 4,
 "nbformat_minor": 2
}
